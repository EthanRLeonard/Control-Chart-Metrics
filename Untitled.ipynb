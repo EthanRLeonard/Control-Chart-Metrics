{
 "cells": [
  {
   "cell_type": "code",
   "execution_count": 1,
   "id": "050fa64a",
   "metadata": {},
   "outputs": [
    {
     "name": "stderr",
     "output_type": "stream",
     "text": [
      "also installing the dependencies 'data.table', 'lifecycle', 'cli', 'gargle', 'broom', 'dtplyr', 'googledrive', 'googlesheets4', 'ggplot2', 'hms', 'jsonlite', 'pillar', 'reprex', 'rlang', 'rvest', 'tibble'\n",
      "\n",
      "\n"
     ]
    },
    {
     "name": "stdout",
     "output_type": "stream",
     "text": [
      "\n",
      "  There are binary versions available but the source versions are later:\n",
      "              binary source needs_compilation\n",
      "data.table    1.14.0 1.14.2              TRUE\n",
      "lifecycle      1.0.0  1.0.1             FALSE\n",
      "cli            2.5.0  3.1.0              TRUE\n",
      "gargle         1.1.0  1.2.0             FALSE\n",
      "broom          0.7.6 0.7.10             FALSE\n",
      "dtplyr         1.1.0  1.2.0             FALSE\n",
      "googledrive    1.0.1  2.0.0             FALSE\n",
      "googlesheets4  0.3.0  1.0.0             FALSE\n",
      "ggplot2        3.3.3  3.3.5             FALSE\n",
      "hms            1.0.0  1.1.1             FALSE\n",
      "pillar         1.6.0  1.6.4             FALSE\n",
      "reprex         2.0.0  2.0.1             FALSE\n",
      "rlang         0.4.11 0.4.12              TRUE\n",
      "rvest          1.0.0  1.0.2             FALSE\n",
      "tibble         3.1.1  3.1.6              TRUE\n",
      "\n",
      "  Binaries will be installed\n",
      "package 'data.table' successfully unpacked and MD5 sums checked\n",
      "package 'cli' successfully unpacked and MD5 sums checked\n",
      "package 'jsonlite' successfully unpacked and MD5 sums checked\n"
     ]
    },
    {
     "name": "stderr",
     "output_type": "stream",
     "text": [
      "Warning message:\n",
      "\"cannot remove prior installation of package 'jsonlite'\"\n",
      "Warning message in file.copy(savedcopy, lib, recursive = TRUE):\n",
      "\"problem copying C:\\Users\\ethan\\.julia\\conda\\3\\Lib\\R\\library\\00LOCK\\jsonlite\\libs\\x64\\jsonlite.dll to C:\\Users\\ethan\\.julia\\conda\\3\\Lib\\R\\library\\jsonlite\\libs\\x64\\jsonlite.dll: Permission denied\"\n",
      "Warning message:\n",
      "\"restored 'jsonlite'\"\n"
     ]
    },
    {
     "name": "stdout",
     "output_type": "stream",
     "text": [
      "package 'rlang' successfully unpacked and MD5 sums checked\n",
      "package 'tibble' successfully unpacked and MD5 sums checked\n",
      "package 'tidyverse' successfully unpacked and MD5 sums checked\n",
      "\n",
      "The downloaded binary packages are in\n",
      "\tC:\\Users\\ethan\\AppData\\Local\\Temp\\RtmpEH6hzJ\\downloaded_packages\n"
     ]
    },
    {
     "name": "stderr",
     "output_type": "stream",
     "text": [
      "installing the source packages 'lifecycle', 'gargle', 'broom', 'dtplyr', 'googledrive', 'googlesheets4', 'ggplot2', 'hms', 'pillar', 'reprex', 'rvest'\n",
      "\n",
      "\n",
      "Warning message in install.packages(\"tidyverse\"):\n",
      "\"installation of package 'ggplot2' had non-zero exit status\"\n",
      "Warning message in install.packages(\"tidyverse\"):\n",
      "\"installation of package 'broom' had non-zero exit status\"\n",
      "Warning message in install.packages(\"tidyverse\"):\n",
      "\"installation of package 'dtplyr' had non-zero exit status\"\n"
     ]
    }
   ],
   "source": [
    "install.packages(\"tidyverse\")"
   ]
  },
  {
   "cell_type": "code",
   "execution_count": 5,
   "id": "1cd7d552",
   "metadata": {},
   "outputs": [
    {
     "name": "stderr",
     "output_type": "stream",
     "text": [
      "Warning message:\n",
      "\"package 'tidyverse' was built under R version 3.6.3\"\n"
     ]
    },
    {
     "ename": "ERROR",
     "evalue": "Error: package or namespace load failed for 'tidyverse' in loadNamespace(j <- i[[1L]], c(lib.loc, .libPaths()), versionCheck = vI[[j]]):\n namespace 'broom' 0.5.2 is being loaded, but >= 0.7.6 is required\n",
     "output_type": "error",
     "traceback": [
      "Error: package or namespace load failed for 'tidyverse' in loadNamespace(j <- i[[1L]], c(lib.loc, .libPaths()), versionCheck = vI[[j]]):\n namespace 'broom' 0.5.2 is being loaded, but >= 0.7.6 is required\nTraceback:\n",
      "1. library(tidyverse)",
      "2. tryCatch({\n .     attr(package, \"LibPath\") <- which.lib.loc\n .     ns <- loadNamespace(package, lib.loc)\n .     env <- attachNamespace(ns, pos = pos, deps, exclude, include.only)\n . }, error = function(e) {\n .     P <- if (!is.null(cc <- conditionCall(e))) \n .         paste(\" in\", deparse(cc)[1L])\n .     else \"\"\n .     msg <- gettextf(\"package or namespace load failed for %s%s:\\n %s\", \n .         sQuote(package), P, conditionMessage(e))\n .     if (logical.return) \n .         message(paste(\"Error:\", msg), domain = NA)\n .     else stop(msg, call. = FALSE, domain = NA)\n . })",
      "3. tryCatchList(expr, classes, parentenv, handlers)",
      "4. tryCatchOne(expr, names, parentenv, handlers[[1L]])",
      "5. value[[3L]](cond)",
      "6. stop(msg, call. = FALSE, domain = NA)"
     ]
    }
   ],
   "source": [
    "library(tidyverse)\n",
    "library(data.table)\n",
    "require(graphics)\n",
    "library(qcc)\n",
    "library(readxl)\n",
    "require(MASS) \n",
    "getmode <- function(v) {\n",
    "   uniqv <- unique(v)\n",
    "   uniqv[which.max(tabulate(match(v, uniqv)))]\n",
    "}\n",
    "\n"
   ]
  },
  {
   "cell_type": "code",
   "execution_count": 4,
   "id": "dd3403e9",
   "metadata": {},
   "outputs": [
    {
     "data": {
      "text/plain": [
       "               _                           \n",
       "platform       x86_64-w64-mingw32          \n",
       "arch           x86_64                      \n",
       "os             mingw32                     \n",
       "system         x86_64, mingw32             \n",
       "status                                     \n",
       "major          3                           \n",
       "minor          6.1                         \n",
       "year           2019                        \n",
       "month          07                          \n",
       "day            05                          \n",
       "svn rev        76782                       \n",
       "language       R                           \n",
       "version.string R version 3.6.1 (2019-07-05)\n",
       "nickname       Action of the Toes          "
      ]
     },
     "metadata": {},
     "output_type": "display_data"
    }
   ],
   "source": []
  },
  {
   "cell_type": "code",
   "execution_count": null,
   "id": "7cd9c4fe",
   "metadata": {},
   "outputs": [],
   "source": []
  }
 ],
 "metadata": {
  "kernelspec": {
   "display_name": "R 4.1.2",
   "language": "R",
   "name": "ir35"
  },
  "language_info": {
   "codemirror_mode": "r",
   "file_extension": ".r",
   "mimetype": "text/x-r-source",
   "name": "R",
   "pygments_lexer": "r",
   "version": "3.6.1"
  }
 },
 "nbformat": 4,
 "nbformat_minor": 5
}
