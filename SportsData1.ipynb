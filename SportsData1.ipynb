{
 "cells": [
  {
   "cell_type": "code",
   "execution_count": 1,
   "id": "210b2fe6",
   "metadata": {},
   "outputs": [
    {
     "name": "stderr",
     "output_type": "stream",
     "text": [
      "Warning message:\n",
      "\"package 'data.table' was built under R version 3.6.3\"\n",
      "Warning message:\n",
      "\"package 'qcc' was built under R version 3.6.3\"\n",
      "Package 'qcc' version 2.7\n",
      "\n",
      "Type 'citation(\"qcc\")' for citing this R package in publications.\n",
      "\n",
      "Warning message:\n",
      "\"package 'readxl' was built under R version 3.6.3\"\n",
      "Loading required package: MASS\n",
      "\n"
     ]
    }
   ],
   "source": [
    "library(data.table)\n",
    "require(graphics)\n",
    "library(qcc)\n",
    "library(readxl)\n",
    "require(MASS) \n",
    "getmode <- function(v) {\n",
    "   uniqv <- unique(v)\n",
    "   uniqv[which.max(tabulate(match(v, uniqv)))]\n",
    "}"
   ]
  },
  {
   "cell_type": "code",
   "execution_count": 2,
   "id": "8b9c2bea",
   "metadata": {},
   "outputs": [
    {
     "name": "stderr",
     "output_type": "stream",
     "text": [
      "New names:\n",
      "* GAA -> GAA...2\n",
      "* `` -> ...3\n",
      "* GAA -> GAA...5\n",
      "* `` -> ...6\n",
      "* `` -> ...7\n",
      "* ...\n",
      "\n"
     ]
    }
   ],
   "source": [
    "GAA <- read_excel(\"ESE 405 HW 5 Data.xlsx\")"
   ]
  },
  {
   "cell_type": "code",
   "execution_count": 3,
   "id": "77ae1e87",
   "metadata": {
    "scrolled": false
   },
   "outputs": [
    {
     "name": "stdout",
     "output_type": "stream",
     "text": [
      "Statistics for top goaltenders in years 1990-2004: \n"
     ]
    },
    {
     "data": {
      "text/plain": [
       "    GAA...2     \n",
       " Min.   :1.910  \n",
       " 1st Qu.:2.315  \n",
       " Median :2.485  \n",
       " Mean   :2.454  \n",
       " 3rd Qu.:2.618  \n",
       " Max.   :2.730  "
      ]
     },
     "metadata": {},
     "output_type": "display_data"
    },
    {
     "name": "stdout",
     "output_type": "stream",
     "text": [
      "Standard Deviation during those years: \n"
     ]
    },
    {
     "data": {
      "text/html": [
       "0.1998"
      ],
      "text/latex": [
       "0.1998"
      ],
      "text/markdown": [
       "0.1998"
      ],
      "text/plain": [
       "[1] 0.1998"
      ]
     },
     "metadata": {},
     "output_type": "display_data"
    },
    {
     "name": "stdout",
     "output_type": "stream",
     "text": [
      "Mode during those years: \n"
     ]
    },
    {
     "data": {
      "text/html": [
       "2.55"
      ],
      "text/latex": [
       "2.55"
      ],
      "text/markdown": [
       "2.55"
      ],
      "text/plain": [
       "[1] 2.55"
      ]
     },
     "metadata": {},
     "output_type": "display_data"
    },
    {
     "name": "stdout",
     "output_type": "stream",
     "text": [
      "Statistics for top goaltenders in years 2005-2021: \n"
     ]
    },
    {
     "data": {
      "text/plain": [
       "    GAA...5     \n",
       " Min.   :2.010  \n",
       " 1st Qu.:2.430  \n",
       " Median :2.490  \n",
       " Mean   :2.460  \n",
       " 3rd Qu.:2.547  \n",
       " Max.   :2.600  "
      ]
     },
     "metadata": {},
     "output_type": "display_data"
    },
    {
     "name": "stdout",
     "output_type": "stream",
     "text": [
      "Standard Deviation during those years: \n"
     ]
    },
    {
     "data": {
      "text/html": [
       "0.1291"
      ],
      "text/latex": [
       "0.1291"
      ],
      "text/markdown": [
       "0.1291"
      ],
      "text/plain": [
       "[1] 0.1291"
      ]
     },
     "metadata": {},
     "output_type": "display_data"
    },
    {
     "name": "stdout",
     "output_type": "stream",
     "text": [
      "Mode during those years: \n"
     ]
    },
    {
     "data": {
      "text/html": [
       "2.47"
      ],
      "text/latex": [
       "2.47"
      ],
      "text/markdown": [
       "2.47"
      ],
      "text/plain": [
       "[1] 2.47"
      ]
     },
     "metadata": {},
     "output_type": "display_data"
    }
   ],
   "source": [
    "GAAph1=GAA[,2]\n",
    "GOALTENDERS_IN_PHASE_1=unlist(GAAph1)\n",
    "GAAph2=GAA[,5]\n",
    "GOALTENDERS_IN_PHASE_2=unlist(GAAph2)\n",
    "cat(\"Statistics for top goaltenders in years 1990-2004:\",\"\\n\")\n",
    "summary(GAAph1)\n",
    "cat(\"Standard Deviation during those years:\",\"\\n\")\n",
    "round(sd(unlist(GAAph1)),digits=4)\n",
    "cat(\"Mode during those years:\",\"\\n\")\n",
    "Mode1=getmode(GOALTENDERS_IN_PHASE_1)\n",
    "Mode1\n",
    "cat(\"Statistics for top goaltenders in years 2005-2021:\",\"\\n\")\n",
    "summary(GAAph2)\n",
    "cat(\"Standard Deviation during those years:\",\"\\n\")\n",
    "round(sd(unlist(GAAph2)),digits=4)\n",
    "cat(\"Mode during those years:\",\"\\n\")\n",
    "Mode2=getmode(GOALTENDERS_IN_PHASE_2)\n",
    "Mode2"
   ]
  },
  {
   "cell_type": "markdown",
   "id": "3980fa1b",
   "metadata": {},
   "source": [
    "It appears that the two means and medians are fairly close, so the initial guess would be that a hypothesis test determining if the goaltenders during the given years performed differently on average would show that the change in goaltending rules produced no significant change. \n",
    "\n",
    "Since a t-test can be used on non-random data if the two distributions aren't very skewed, a t-test was attempted with statements $$H_{0}: \\mu_{1}=\\mu_{2}$$ $$H_{1}: \\mu_{1}\\neq\\mu_{2}\\\\  $$ \n",
    "\n",
    "and with $$\\alpha=0.05$$"
   ]
  },
  {
   "cell_type": "code",
   "execution_count": 183,
   "id": "ffb6e178",
   "metadata": {},
   "outputs": [
    {
     "data": {
      "text/plain": [
       "\n",
       "\tWelch Two Sample t-test\n",
       "\n",
       "data:  unlist(GAAph1) and unlist(GAAph2)\n",
       "t = -0.16647, df = 83.86, p-value = 0.8682\n",
       "alternative hypothesis: true difference in means is not equal to 0\n",
       "95 percent confidence interval:\n",
       " -0.07249665  0.06129665\n",
       "sample estimates:\n",
       "mean of x mean of y \n",
       "   2.4540    2.4596 \n"
      ]
     },
     "metadata": {},
     "output_type": "display_data"
    }
   ],
   "source": [
    "t.test(unlist(GAAph1),unlist(GAAph2),mu=0,paired=FALSE,var.equal = FALSE,conf.level = .95)"
   ]
  },
  {
   "cell_type": "markdown",
   "id": "db71fdc2",
   "metadata": {},
   "source": [
    "The two sided test suggests that the guess was right; the p-value was 0.8682 and the change in rules didn't affect the mean heavily. \n",
    "\n",
    "However, if we take a closer look at the data, we might see a different picture. Let's test normality, just to be sure."
   ]
  },
  {
   "cell_type": "code",
   "execution_count": 213,
   "id": "54d3cdb5",
   "metadata": {},
   "outputs": [
    {
     "data": {
      "text/plain": [
       "\n",
       "\tShapiro-Wilk normality test\n",
       "\n",
       "data:  GOALTENDERS_IN_PHASE_1\n",
       "W = 0.94929, p-value = 0.0319\n"
      ]
     },
     "metadata": {},
     "output_type": "display_data"
    },
    {
     "data": {
      "image/png": "[encoded data removed]",
      "text/plain": [
       "Plot with title \"Normal Q-Q Plot\""
      ]
     },
     "metadata": {},
     "output_type": "display_data"
    }
   ],
   "source": [
    "qqnorm(unlist(GAAph1),plot.it=TRUE)\n",
    "qqline(unlist(GAAph1))\n",
    "shapiro.test(GOALTENDERS_IN_PHASE_1)"
   ]
  },
  {
   "cell_type": "code",
   "execution_count": 212,
   "id": "cfe57e33",
   "metadata": {},
   "outputs": [
    {
     "data": {
      "text/plain": [
       "\n",
       "\tShapiro-Wilk normality test\n",
       "\n",
       "data:  GOALTENDERS_IN_PHASE_2\n",
       "W = 0.81458, p-value = 1.933e-06\n"
      ]
     },
     "metadata": {},
     "output_type": "display_data"
    },
    {
     "data": {
      "image/png": "[encoded data removed]",
      "text/plain": [
       "Plot with title \"Normal Q-Q Plot\""
      ]
     },
     "metadata": {},
     "output_type": "display_data"
    }
   ],
   "source": [
    "qqnorm(unlist(GAAph2),plot.it=TRUE)\n",
    "qqline(unlist(GAAph2))\n",
    "shapiro.test(GOALTENDERS_IN_PHASE_2)"
   ]
  },
  {
   "cell_type": "markdown",
   "id": "00db8e66",
   "metadata": {},
   "source": [
    "Neither data set is normal! The QQ plot would have the points follow the line closely if it were normal and the Shapiro-Wilk tests would have a p-value greater than 0.05. "
   ]
  },
  {
   "cell_type": "code",
   "execution_count": 211,
   "id": "58192afa",
   "metadata": {},
   "outputs": [
    {
     "data": {
      "image/png": "[encoded data removed]",
      "text/plain": [
       "Plot with title \"Histogram of GOALTENDERS_IN_PHASE_1\""
      ]
     },
     "metadata": {},
     "output_type": "display_data"
    },
    {
     "data": {
      "image/png": "[encoded data removed]",
      "text/plain": [
       "Plot with title \"Histogram of GOALTENDERS_IN_PHASE_2\""
      ]
     },
     "metadata": {},
     "output_type": "display_data"
    }
   ],
   "source": [
    "hist(x = GOALTENDERS_IN_PHASE_1,\n",
    "     ylab = \"Number of Goaltenders\",\n",
    "     xlab = \"Goals Against Average\",\n",
    "     col = \"Green\")\n",
    "hist(x = GOALTENDERS_IN_PHASE_2,\n",
    "     ylab = \"Number of Goaltenders\",\n",
    "     xlab = \"Goals Against Average\",\n",
    "     col = \"Red\")"
   ]
  },
  {
   "cell_type": "code",
   "execution_count": 4,
   "id": "70768a90",
   "metadata": {},
   "outputs": [
    {
     "data": {
      "image/png": "[encoded data removed]",
      "text/plain": [
       "plot without title"
      ]
     },
     "metadata": {
      "image/png": {
       "height": 420,
       "width": 420
      }
     },
     "output_type": "display_data"
    },
    {
     "data": {
      "image/png": "[encoded data removed]",
      "text/plain": [
       "plot without title"
      ]
     },
     "metadata": {
      "image/png": {
       "height": 420,
       "width": 420
      }
     },
     "output_type": "display_data"
    }
   ],
   "source": [
    "plot.default(GAAph1)\n",
    "plot.default(GAAph2)"
   ]
  },
  {
   "cell_type": "code",
   "execution_count": null,
   "id": "42bd7792",
   "metadata": {},
   "outputs": [],
   "source": []
  }
 ],
 "metadata": {
  "kernelspec": {
   "display_name": "R",
   "language": "R",
   "name": "ir"
  },
  "language_info": {
   "codemirror_mode": "r",
   "file_extension": ".r",
   "mimetype": "text/x-r-source",
   "name": "R",
   "pygments_lexer": "r",
   "version": "3.6.1"
  }
 },
 "nbformat": 4,
 "nbformat_minor": 5
}
