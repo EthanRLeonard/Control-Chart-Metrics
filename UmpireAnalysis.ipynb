{
 "cells": [
  {
   "cell_type": "code",
   "execution_count": 2,
   "id": "127d97d2",
   "metadata": {},
   "outputs": [
    {
     "name": "stderr",
     "output_type": "stream",
     "text": [
      "Warning message:\n",
      "\"package 'data.table' was built under R version 3.6.3\"\n",
      "Warning message:\n",
      "\"package 'qcc' was built under R version 3.6.3\"\n",
      "Package 'qcc' version 2.7\n",
      "\n",
      "Type 'citation(\"qcc\")' for citing this R package in publications.\n",
      "\n",
      "Warning message:\n",
      "\"package 'readxl' was built under R version 3.6.3\"\n",
      "Loading required package: MASS\n",
      "\n"
     ]
    }
   ],
   "source": [
    "library(data.table)\n",
    "require(graphics)\n",
    "library(qcc)\n",
    "library(readxl)\n",
    "require(MASS) \n",
    "getmode <- function(v) {\n",
    "   uniqv <- unique(v)\n",
    "   uniqv[which.max(tabulate(match(v, uniqv)))]\n",
    "}"
   ]
  },
  {
   "cell_type": "code",
   "execution_count": 5,
   "id": "89a55373",
   "metadata": {
    "scrolled": false
   },
   "outputs": [
    {
     "data": {
      "text/plain": [
       " Total Run Impact\n",
       " Min.   :0.000   \n",
       " 1st Qu.:0.850   \n",
       " Median :1.250   \n",
       " Mean   :1.349   \n",
       " 3rd Qu.:1.700   \n",
       " Max.   :5.500   "
      ]
     },
     "metadata": {},
     "output_type": "display_data"
    },
    {
     "name": "stdout",
     "output_type": "stream",
     "text": [
      "Standard Deviation For Total Run Impact: \n"
     ]
    },
    {
     "data": {
      "text/html": [
       "0.6903"
      ],
      "text/latex": [
       "0.6903"
      ],
      "text/markdown": [
       "0.6903"
      ],
      "text/plain": [
       "[1] 0.6903"
      ]
     },
     "metadata": {},
     "output_type": "display_data"
    },
    {
     "data": {
      "text/plain": [
       "    Accuracy     \n",
       " Min.   : 84.80  \n",
       " 1st Qu.: 92.10  \n",
       " Median : 93.70  \n",
       " Mean   : 93.55  \n",
       " 3rd Qu.: 95.20  \n",
       " Max.   :100.00  "
      ]
     },
     "metadata": {},
     "output_type": "display_data"
    },
    {
     "name": "stdout",
     "output_type": "stream",
     "text": [
      "Standard Deviation For Accuracy: \n"
     ]
    },
    {
     "data": {
      "text/html": [
       "2.2755"
      ],
      "text/latex": [
       "2.2755"
      ],
      "text/markdown": [
       "2.2755"
      ],
      "text/plain": [
       "[1] 2.2755"
      ]
     },
     "metadata": {},
     "output_type": "display_data"
    },
    {
     "data": {
      "text/html": [
       "<strong>png:</strong> 2"
      ],
      "text/latex": [
       "\\textbf{png:} 2"
      ],
      "text/markdown": [
       "**png:** 2"
      ],
      "text/plain": [
       "png \n",
       "  2 "
      ]
     },
     "metadata": {},
     "output_type": "display_data"
    },
    {
     "data": {
      "text/html": [
       "<strong>png:</strong> 2"
      ],
      "text/latex": [
       "\\textbf{png:} 2"
      ],
      "text/markdown": [
       "**png:** 2"
      ],
      "text/plain": [
       "png \n",
       "  2 "
      ]
     },
     "metadata": {},
     "output_type": "display_data"
    }
   ],
   "source": [
    "sportsdata <- fread(\"games.csv\")\n",
    "Acc=sportsdata[,11]\n",
    "impact=unlist(sportsdata[,14])\n",
    "Aunlist=unlist(Acc)\n",
    "summary(sportsdata[,14])\n",
    "cat(\"Standard Deviation For Total Run Impact:\",\"\\n\")\n",
    "round(sd(impact),digits=4)\n",
    "summary(Acc)\n",
    "cat(\"Standard Deviation For Accuracy:\",\"\\n\")\n",
    "round(sd(Aunlist),digits=4)\n",
    "jpeg(\"Umpire Accuracy Plot.jpg\")\n",
    "plot(table(sportsdata$Accuracy),col = \"Blue\",\n",
    "     xlab = \"Accuracy\", ylab=\"Number of Umpires\")\n",
    "dev.off()\n",
    "jpeg(\"Umpire Total Run Impact Plot.jpg\")\n",
    "plot(table(sportsdata[,14]), col=\"Orange\",\n",
    "     xlab = \"Total Run Impact\", ylab=\"Number of Umpires\")\n",
    "dev.off()\n",
    "\n"
   ]
  },
  {
   "cell_type": "code",
   "execution_count": 7,
   "id": "0ab67ba0",
   "metadata": {
    "scrolled": false
   },
   "outputs": [],
   "source": [
    "UmpireAccuracy=matrix(data=Aunlist,nrow=1231,ncol=2);\n",
    "xbar1=qcc(data=UmpireAccuracy,type=\"xbar\",plot=FALSE);\n",
    "rchart1=qcc(data=UmpireAccuracy,type=\"R\",plot=FALSE);\n",
    "\n",
    "UmpireTotalRunImpact=matrix(data=impact,nrow=1231,ncol=2);\n",
    "xbar2=qcc(data=UmpireTotalRunImpact,type=\"xbar\",plot=FALSE);\n",
    "rchart2=qcc(data=UmpireTotalRunImpact,type=\"R\",plot=FALSE);"
   ]
  },
  {
   "cell_type": "code",
   "execution_count": 53,
   "id": "79d83440",
   "metadata": {},
   "outputs": [
    {
     "data": {
      "text/html": [
       "<strong>png:</strong> 2"
      ],
      "text/latex": [
       "\\textbf{png:} 2"
      ],
      "text/markdown": [
       "**png:** 2"
      ],
      "text/plain": [
       "png \n",
       "  2 "
      ]
     },
     "metadata": {},
     "output_type": "display_data"
    },
    {
     "data": {
      "text/html": [
       "<strong>png:</strong> 2"
      ],
      "text/latex": [
       "\\textbf{png:} 2"
      ],
      "text/markdown": [
       "**png:** 2"
      ],
      "text/plain": [
       "png \n",
       "  2 "
      ]
     },
     "metadata": {},
     "output_type": "display_data"
    },
    {
     "data": {
      "text/html": [
       "<strong>png:</strong> 2"
      ],
      "text/latex": [
       "\\textbf{png:} 2"
      ],
      "text/markdown": [
       "**png:** 2"
      ],
      "text/plain": [
       "png \n",
       "  2 "
      ]
     },
     "metadata": {},
     "output_type": "display_data"
    },
    {
     "data": {
      "text/html": [
       "<strong>png:</strong> 2"
      ],
      "text/latex": [
       "\\textbf{png:} 2"
      ],
      "text/markdown": [
       "**png:** 2"
      ],
      "text/plain": [
       "png \n",
       "  2 "
      ]
     },
     "metadata": {},
     "output_type": "display_data"
    }
   ],
   "source": [
    "jpeg(\"xbarForAccuracy.jpg\")\n",
    "plot(xbar1)\n",
    "dev.off()\n",
    "\n",
    "jpeg(\"RchartForAccuracy.jpg\")\n",
    "plot(rchart1)\n",
    "dev.off()\n",
    "\n",
    "jpeg(\"xbarForRunImpact.jpg\")\n",
    "plot(xbar2)\n",
    "dev.off()\n",
    "\n",
    "jpeg(\"RchartForRunImpact.jpg\")\n",
    "plot(rchart2)\n",
    "dev.off()"
   ]
  },
  {
   "cell_type": "code",
   "execution_count": 3,
   "id": "55e21852",
   "metadata": {},
   "outputs": [],
   "source": [
    "help(qcc)"
   ]
  },
  {
   "cell_type": "code",
   "execution_count": 8,
   "id": "acb0186b",
   "metadata": {},
   "outputs": [],
   "source": [
    "xBarObject <- qcc(data = UmpireAccuracy,type = \"xbar\",plot=FALSE)"
   ]
  },
  {
   "cell_type": "code",
   "execution_count": 11,
   "id": "555ecdcb",
   "metadata": {},
   "outputs": [
    {
     "name": "stdout",
     "output_type": "stream",
     "text": [
      "\n",
      "Process Capability Analysis\n",
      "\n",
      "Call:\n",
      "process.capability(object = xBarObject, spec.limits = c(95, NA))\n",
      "\n",
      "Number of obs = 2462         Target = \n",
      "       Center = 93.55           LSL = 95\n",
      "       StdDev = 2.236           USL = \n",
      "\n",
      "Capability indices:\n",
      "\n",
      "        Value     2.5%    97.5%\n",
      "Cp                             \n",
      "Cp_l  -0.2155  -0.2033  -0.2276\n",
      "Cp_u                           \n",
      "Cp_k                           \n",
      "Cpm                            \n",
      "\n",
      "Exp<LSL 74%\t Obs<LSL 71%\n",
      "Exp>USL \t Obs>USL "
     ]
    },
    {
     "data": {
      "image/png": "[encoded data removed]",
      "text/plain": [
       "plot without title"
      ]
     },
     "metadata": {
      "image/png": {
       "height": 420,
       "width": 420
      }
     },
     "output_type": "display_data"
    }
   ],
   "source": [
    "process.capability(xBarObject,spec.limits = c(95, NA))"
   ]
  },
  {
   "cell_type": "code",
   "execution_count": null,
   "id": "d561817f",
   "metadata": {},
   "outputs": [],
   "source": []
  }
 ],
 "metadata": {
  "kernelspec": {
   "display_name": "R",
   "language": "R",
   "name": "ir"
  },
  "language_info": {
   "codemirror_mode": "r",
   "file_extension": ".r",
   "mimetype": "text/x-r-source",
   "name": "R",
   "pygments_lexer": "r",
   "version": "3.6.1"
  }
 },
 "nbformat": 4,
 "nbformat_minor": 5
}
